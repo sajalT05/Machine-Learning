{
 "cells": [
  {
   "cell_type": "code",
   "execution_count": 1,
   "id": "ca143b22",
   "metadata": {},
   "outputs": [],
   "source": [
    "import pandas as pd\n",
    "import numpy as np\n",
    "import matplotlib.pyplot as plt\n",
    "from sklearn import linear_model"
   ]
  },
  {
   "cell_type": "code",
   "execution_count": null,
   "id": "a49decc7",
   "metadata": {},
   "outputs": [],
   "source": [
    "df=pd.read_csv(\"database.csv\")\n",
    "df"
   ]
  },
  {
   "cell_type": "code",
   "execution_count": null,
   "id": "ccffddc8",
   "metadata": {},
   "outputs": [],
   "source": [
    "%matplotlib inline\n",
    "plt.xlabel('area')\n",
    "plt.ylabel('prices')\n",
    "plt.scatter(df.area,df.prices, color='red', marker='+')"
   ]
  },
  {
   "cell_type": "code",
   "execution_count": null,
   "id": "2085aea8",
   "metadata": {},
   "outputs": [],
   "source": [
    "# create linear regression object\n",
    "regression_object=linear_model.LinearRegression()\n",
    "regression_object.fit(df[['area']], df.prices)"
   ]
  },
  {
   "cell_type": "code",
   "execution_count": null,
   "id": "f7a932e1",
   "metadata": {},
   "outputs": [],
   "source": [
    "reg.predict(3300)"
   ]
  },
  {
   "cell_type": "code",
   "execution_count": null,
   "id": "8d1914a7",
   "metadata": {},
   "outputs": [],
   "source": []
  },
  {
   "cell_type": "code",
   "execution_count": null,
   "id": "ce5fe23f",
   "metadata": {},
   "outputs": [],
   "source": []
  }
 ],
 "metadata": {
  "kernelspec": {
   "display_name": "Python 3 (ipykernel)",
   "language": "python",
   "name": "python3"
  },
  "language_info": {
   "codemirror_mode": {
    "name": "ipython",
    "version": 3
   },
   "file_extension": ".py",
   "mimetype": "text/x-python",
   "name": "python",
   "nbconvert_exporter": "python",
   "pygments_lexer": "ipython3",
   "version": "3.9.7"
  }
 },
 "nbformat": 4,
 "nbformat_minor": 5
}
