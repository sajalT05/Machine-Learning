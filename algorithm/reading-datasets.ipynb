{
 "cells": [
  {
   "cell_type": "code",
   "execution_count": 49,
   "id": "3b80a3f3",
   "metadata": {},
   "outputs": [],
   "source": [
    "# import modules\n",
    "import pandas as pd"
   ]
  },
  {
   "cell_type": "code",
   "execution_count": 50,
   "id": "419f526d",
   "metadata": {},
   "outputs": [],
   "source": [
    "# link file\n",
    "file_location='datasets/heights.csv'"
   ]
  },
  {
   "cell_type": "code",
   "execution_count": 51,
   "id": "4ffce431",
   "metadata": {},
   "outputs": [],
   "source": [
    "ColumnName=['Rank','Country','MaleHeight','FemaleHeight','MaleHeight(ft)','FemaleHeight(ft)']"
   ]
  },
  {
   "cell_type": "code",
   "execution_count": 52,
   "id": "a5a609ea",
   "metadata": {},
   "outputs": [],
   "source": [
    "# create dataset\n",
    "# dataframe = df\n",
    "# read csv file\n",
    "df=pd.read_csv(file_location,names=ColumnName)"
   ]
  },
  {
   "cell_type": "code",
   "execution_count": 53,
   "id": "33a90827",
   "metadata": {},
   "outputs": [
    {
     "name": "stdout",
     "output_type": "stream",
     "text": [
      "(200, 6)\n"
     ]
    }
   ],
   "source": [
    "# print shape of data\n",
    "print(df.shape)"
   ]
  },
  {
   "cell_type": "code",
   "execution_count": 54,
   "id": "c94fb5ec",
   "metadata": {},
   "outputs": [
    {
     "data": {
      "text/html": [
       "<div>\n",
       "<style scoped>\n",
       "    .dataframe tbody tr th:only-of-type {\n",
       "        vertical-align: middle;\n",
       "    }\n",
       "\n",
       "    .dataframe tbody tr th {\n",
       "        vertical-align: top;\n",
       "    }\n",
       "\n",
       "    .dataframe thead th {\n",
       "        text-align: right;\n",
       "    }\n",
       "</style>\n",
       "<table border=\"1\" class=\"dataframe\">\n",
       "  <thead>\n",
       "    <tr style=\"text-align: right;\">\n",
       "      <th></th>\n",
       "      <th>Rank</th>\n",
       "      <th>Country</th>\n",
       "      <th>MaleHeight</th>\n",
       "      <th>FemaleHeight</th>\n",
       "      <th>MaleHeight(ft)</th>\n",
       "      <th>FemaleHeight(ft)</th>\n",
       "    </tr>\n",
       "  </thead>\n",
       "  <tbody>\n",
       "    <tr>\n",
       "      <th>0</th>\n",
       "      <td>Rank</td>\n",
       "      <td>Country Name</td>\n",
       "      <td>Male Height in Cm</td>\n",
       "      <td>Female Height in Cm</td>\n",
       "      <td>Male Height in Ft</td>\n",
       "      <td>Female Height in Ft</td>\n",
       "    </tr>\n",
       "    <tr>\n",
       "      <th>1</th>\n",
       "      <td>1</td>\n",
       "      <td>Netherlands</td>\n",
       "      <td>183.78</td>\n",
       "      <td>170.36</td>\n",
       "      <td>6.03</td>\n",
       "      <td>5.59</td>\n",
       "    </tr>\n",
       "    <tr>\n",
       "      <th>2</th>\n",
       "      <td>2</td>\n",
       "      <td>Montenegro</td>\n",
       "      <td>183.30</td>\n",
       "      <td>169.96</td>\n",
       "      <td>6.01</td>\n",
       "      <td>5.58</td>\n",
       "    </tr>\n",
       "    <tr>\n",
       "      <th>3</th>\n",
       "      <td>3</td>\n",
       "      <td>Estonia</td>\n",
       "      <td>182.79</td>\n",
       "      <td>168.66</td>\n",
       "      <td>6.00</td>\n",
       "      <td>5.53</td>\n",
       "    </tr>\n",
       "    <tr>\n",
       "      <th>4</th>\n",
       "      <td>4</td>\n",
       "      <td>Bosnia and Herzegovina</td>\n",
       "      <td>182.47</td>\n",
       "      <td>167.47</td>\n",
       "      <td>5.99</td>\n",
       "      <td>5.49</td>\n",
       "    </tr>\n",
       "  </tbody>\n",
       "</table>\n",
       "</div>"
      ],
      "text/plain": [
       "   Rank                 Country         MaleHeight         FemaleHeight  \\\n",
       "0  Rank            Country Name  Male Height in Cm  Female Height in Cm   \n",
       "1     1             Netherlands             183.78               170.36   \n",
       "2     2              Montenegro             183.30               169.96   \n",
       "3     3                 Estonia             182.79               168.66   \n",
       "4     4  Bosnia and Herzegovina             182.47               167.47   \n",
       "\n",
       "      MaleHeight(ft)     FemaleHeight(ft)  \n",
       "0  Male Height in Ft  Female Height in Ft  \n",
       "1               6.03                 5.59  \n",
       "2               6.01                 5.58  \n",
       "3               6.00                 5.53  \n",
       "4               5.99                 5.49  "
      ]
     },
     "execution_count": 54,
     "metadata": {},
     "output_type": "execute_result"
    }
   ],
   "source": [
    "# show first 5 rows\n",
    "df.head()"
   ]
  },
  {
   "cell_type": "code",
   "execution_count": null,
   "id": "80303035",
   "metadata": {},
   "outputs": [],
   "source": [
    "# "
   ]
  },
  {
   "cell_type": "code",
   "execution_count": null,
   "id": "e7b125d4",
   "metadata": {},
   "outputs": [],
   "source": []
  },
  {
   "cell_type": "code",
   "execution_count": null,
   "id": "1d85b5b2",
   "metadata": {},
   "outputs": [],
   "source": []
  }
 ],
 "metadata": {
  "kernelspec": {
   "display_name": "Python 3 (ipykernel)",
   "language": "python",
   "name": "python3"
  },
  "language_info": {
   "codemirror_mode": {
    "name": "ipython",
    "version": 3
   },
   "file_extension": ".py",
   "mimetype": "text/x-python",
   "name": "python",
   "nbconvert_exporter": "python",
   "pygments_lexer": "ipython3",
   "version": "3.9.7"
  }
 },
 "nbformat": 4,
 "nbformat_minor": 5
}
